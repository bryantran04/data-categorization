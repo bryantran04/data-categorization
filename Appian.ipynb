{
 "cells": [
  {
   "cell_type": "code",
   "execution_count": 1,
   "metadata": {},
   "outputs": [],
   "source": [
    "import nltk\n",
    "import pandas as pd\n",
    "import numpy as np\n",
    "from sklearn.feature_extraction.text import CountVectorizer\n",
    "from sklearn.base import TransformerMixin\n",
    "from sklearn.pipeline import Pipeline\n",
    "from sklearn.svm import LinearSVC\n",
    "from sklearn.feature_extraction.stop_words import ENGLISH_STOP_WORDS\n",
    "from sklearn.metrics import accuracy_score\n",
    "from nltk.corpus import stopwords\n",
    "from sklearn.feature_extraction.text import TfidfTransformer\n",
    "from sklearn.naive_bayes import MultinomialNB\n",
    "from sklearn import linear_model\n",
    "from sklearn.ensemble import RandomForestClassifier\n",
    "from sklearn.svm import LinearSVC\n",
    "from sklearn.ensemble import GradientBoostingClassifier\n",
    "import scipy\n",
    "import string\n",
    "from scipy.sparse import hstack\n",
    "from sklearn.metrics import classification_report\n",
    "from sklearn.model_selection import train_test_split\n",
    "import os\n",
    "import re"
   ]
  },
  {
   "cell_type": "code",
   "execution_count": 2,
   "metadata": {},
   "outputs": [],
   "source": [
    "import spacy"
   ]
  },
  {
   "cell_type": "code",
   "execution_count": 3,
   "metadata": {},
   "outputs": [],
   "source": [
    "data = pd.read_csv(\"HRTM_CASE.csv\", encoding = \"ISO-8859-1\")"
   ]
  },
  {
   "cell_type": "code",
   "execution_count": 100,
   "metadata": {},
   "outputs": [
    {
     "name": "stdout",
     "output_type": "stream",
     "text": [
      "<class 'pandas.core.frame.DataFrame'>\n",
      "Int64Index: 11125 entries, 0 to 11640\n",
      "Data columns (total 5 columns):\n",
      "KeyCategory           11125 non-null object\n",
      "KeyServiceOffering    11125 non-null float64\n",
      "Subject               11125 non-null object\n",
      "Description           11125 non-null object\n",
      "newText               11125 non-null object\n",
      "dtypes: float64(1), object(4)\n",
      "memory usage: 521.5+ KB\n"
     ]
    }
   ],
   "source": [
    "data.info()"
   ]
  },
  {
   "cell_type": "code",
   "execution_count": 27,
   "metadata": {},
   "outputs": [
    {
     "data": {
      "text/html": [
       "<div>\n",
       "<style scoped>\n",
       "    .dataframe tbody tr th:only-of-type {\n",
       "        vertical-align: middle;\n",
       "    }\n",
       "\n",
       "    .dataframe tbody tr th {\n",
       "        vertical-align: top;\n",
       "    }\n",
       "\n",
       "    .dataframe thead th {\n",
       "        text-align: right;\n",
       "    }\n",
       "</style>\n",
       "<table border=\"1\" class=\"dataframe\">\n",
       "  <thead>\n",
       "    <tr style=\"text-align: right;\">\n",
       "      <th></th>\n",
       "      <th>KeyCategory</th>\n",
       "      <th>KeyServiceOffering</th>\n",
       "      <th>Subject</th>\n",
       "      <th>Description</th>\n",
       "    </tr>\n",
       "  </thead>\n",
       "  <tbody>\n",
       "    <tr>\n",
       "      <th>0</th>\n",
       "      <td>12.0</td>\n",
       "      <td>42.0</td>\n",
       "      <td>Change of Start Date for New Hire</td>\n",
       "      <td>Hi Team,\\n\\nPlease kindly change the onboardin...</td>\n",
       "    </tr>\n",
       "    <tr>\n",
       "      <th>1</th>\n",
       "      <td>5.0</td>\n",
       "      <td>18.0</td>\n",
       "      <td>NaN</td>\n",
       "      <td>NaN</td>\n",
       "    </tr>\n",
       "    <tr>\n",
       "      <th>2</th>\n",
       "      <td>5.0</td>\n",
       "      <td>18.0</td>\n",
       "      <td>NaN</td>\n",
       "      <td>NaN</td>\n",
       "    </tr>\n",
       "    <tr>\n",
       "      <th>3</th>\n",
       "      <td>4.0</td>\n",
       "      <td>12.0</td>\n",
       "      <td>Unable to change salary crediting account via ...</td>\n",
       "      <td>Dear Sir/Madam,\\n\\nI tried to change the bank ...</td>\n",
       "    </tr>\n",
       "    <tr>\n",
       "      <th>4</th>\n",
       "      <td>6.0</td>\n",
       "      <td>29.0</td>\n",
       "      <td>Inquiry About Health Check-up</td>\n",
       "      <td>Hi,\\n\\nI have given blood samples for annual h...</td>\n",
       "    </tr>\n",
       "  </tbody>\n",
       "</table>\n",
       "</div>"
      ],
      "text/plain": [
       "   KeyCategory  KeyServiceOffering  \\\n",
       "0         12.0                42.0   \n",
       "1          5.0                18.0   \n",
       "2          5.0                18.0   \n",
       "3          4.0                12.0   \n",
       "4          6.0                29.0   \n",
       "\n",
       "                                             Subject  \\\n",
       "0                  Change of Start Date for New Hire   \n",
       "1                                                NaN   \n",
       "2                                                NaN   \n",
       "3  Unable to change salary crediting account via ...   \n",
       "4                      Inquiry About Health Check-up   \n",
       "\n",
       "                                         Description  \n",
       "0  Hi Team,\\n\\nPlease kindly change the onboardin...  \n",
       "1                                                NaN  \n",
       "2                                                NaN  \n",
       "3  Dear Sir/Madam,\\n\\nI tried to change the bank ...  \n",
       "4  Hi,\\n\\nI have given blood samples for annual h...  "
      ]
     },
     "execution_count": 27,
     "metadata": {},
     "output_type": "execute_result"
    }
   ],
   "source": [
    "data.head()"
   ]
  },
  {
   "cell_type": "code",
   "execution_count": 4,
   "metadata": {},
   "outputs": [],
   "source": [
    "def removeNewLine(s):\n",
    "    s = re.sub('\\n', ' ', s)\n",
    "    s = re.sub('/', ' ', s)\n",
    "    s = re.sub('Hi', ' ', s)\n",
    "    s = re.sub('Hello', ' ', s)\n",
    "    return s"
   ]
  },
  {
   "cell_type": "code",
   "execution_count": 5,
   "metadata": {},
   "outputs": [],
   "source": [
    "data['Description'] = data.apply(lambda x: str(x['Description']), axis = 1)\n",
    "data['Subject'] = data.apply(lambda x: str(x['Subject']), axis = 1)\n",
    "data['KeyCategory'] = data.apply(lambda x: str(x['KeyCategory']), axis = 1)\n",
    "data['KeyServiceOffering'] = data.apply(lambda x: str(x['KeyServiceOffering']), axis = 1)"
   ]
  },
  {
   "cell_type": "code",
   "execution_count": 6,
   "metadata": {},
   "outputs": [],
   "source": [
    "data['Description'] = data.apply(lambda x: removeNewLine(x['Description']), axis = 1)"
   ]
  },
  {
   "cell_type": "code",
   "execution_count": 9,
   "metadata": {},
   "outputs": [],
   "source": [
    "def text_process(mess):\n",
    "\n",
    "    nopunc = [char for char in mess if char not in string.punctuation]\n",
    "\n",
    "    nopunc = ''.join(nopunc)\n",
    "    \n",
    "    return [word for word in nopunc.split() if word.lower() not in stopwords.words('english')]"
   ]
  },
  {
   "cell_type": "code",
   "execution_count": 8,
   "metadata": {},
   "outputs": [],
   "source": [
    "data.dropna(inplace=True)\n"
   ]
  },
  {
   "cell_type": "code",
   "execution_count": null,
   "metadata": {},
   "outputs": [],
   "source": [
    "\n",
    "data['Subject'] = data.apply(lambda x: text_process(x['Subject']), axis = 1)\n",
    "data['Description'] = data.apply(lambda x: text_process(x['Description']), axis = 1)\n"
   ]
  },
  {
   "cell_type": "code",
   "execution_count": null,
   "metadata": {},
   "outputs": [],
   "source": [
    "\n",
    "data['Subject'] = data.apply(lambda x: \" \".join(x[\"Subject\"]), axis = 1)\n",
    "data['Description'] = data.apply(lambda x: \" \".join(x[\"Description\"]), axis = 1)"
   ]
  },
  {
   "cell_type": "code",
   "execution_count": null,
   "metadata": {},
   "outputs": [],
   "source": [
    "data['newText'] = data.apply(lambda x: x[\"Subject\"]+ \" \"+x[\"Description\"], axis = 1)"
   ]
  },
  {
   "cell_type": "code",
   "execution_count": null,
   "metadata": {},
   "outputs": [],
   "source": [
    "w_tokenizer = nltk.tokenize.WhitespaceTokenizer()\n",
    "lemmatizer = nltk.stem.WordNetLemmatizer()\n",
    "\n",
    "def lemmatize_text(text):\n",
    "    return [lemmatizer.lemmatize(w) for w in w_tokenizer.tokenize(text)]\n",
    "\n",
    "data['newText'] = data.apply(lambda x: lemmatize_text(x['newText']), axis = 1)\n",
    "data['newText'] = data.apply(lambda x: \" \".join(x[\"newText\"]), axis = 1)"
   ]
  },
  {
   "cell_type": "code",
   "execution_count": null,
   "metadata": {},
   "outputs": [],
   "source": []
  },
  {
   "cell_type": "code",
   "execution_count": null,
   "metadata": {},
   "outputs": [],
   "source": []
  },
  {
   "cell_type": "code",
   "execution_count": 147,
   "metadata": {},
   "outputs": [],
   "source": [
    "# def removeNonEng(text):\n",
    "#     words = set(nltk.corpus.words.words())\n",
    "#     word2 = \" \".join(w for w in nltk.wordpunct_tokenize(text) \\\n",
    "#              if w.lower() in words or not w.isalpha())\n",
    "#     return word2"
   ]
  },
  {
   "cell_type": "code",
   "execution_count": 150,
   "metadata": {},
   "outputs": [],
   "source": [
    "# data['newText'] = data.apply(lambda x: removeNonEng(x['newText']), axis = 1)"
   ]
  },
  {
   "cell_type": "code",
   "execution_count": 165,
   "metadata": {},
   "outputs": [],
   "source": [
    "msg_train, msg_test, label_train, label_test = \\\n",
    "train_test_split(data[\"newText\"], data['KeyCategory'], test_size=0.2)\n",
    "bow_transformer = CountVectorizer(max_features=3000).fit(msg_train)\n"
   ]
  },
  {
   "cell_type": "code",
   "execution_count": 166,
   "metadata": {},
   "outputs": [],
   "source": [
    "messages_bow = bow_transformer.transform(msg_train)\n",
    "tfidf_transformer = TfidfTransformer().fit(messages_bow)\n",
    "messages_tfidf = tfidf_transformer.transform(messages_bow)\n",
    "# %time testmodel = GradientBoostingClassifier(learning_rate=0.01,max_depth=20, n_estimators=100,verbose=3).fit(messages_tfidf, label_train)\n",
    "# testmodel = RandomForestClassifier(n_estimators=100,verbose=1,n_jobs=2).fit(messages_tfidf, label_train)\n",
    "testmodel = LinearSVC().fit(messages_tfidf, label_train)\n",
    "\n",
    "messages_bow = bow_transformer.transform(msg_test)\n",
    "messages_tfidf = tfidf_transformer.transform(messages_bow)\n",
    "\n",
    "\n",
    "\n",
    "all_predictions = testmodel.predict(messages_tfidf)\n"
   ]
  },
  {
   "cell_type": "code",
   "execution_count": 167,
   "metadata": {},
   "outputs": [
    {
     "name": "stdout",
     "output_type": "stream",
     "text": [
      "             precision    recall  f1-score   support\n",
      "\n",
      "        1.0       0.41      0.26      0.32       104\n",
      "       10.0       0.51      0.26      0.34        78\n",
      "       11.0       0.75      0.50      0.60        12\n",
      "       12.0       0.64      0.67      0.66       443\n",
      "       13.0       0.73      0.35      0.48        31\n",
      "        2.0       0.53      0.55      0.54       394\n",
      "        3.0       0.67      0.57      0.62         7\n",
      "        4.0       0.70      0.77      0.73       337\n",
      "        5.0       0.82      0.61      0.70       161\n",
      "        6.0       0.67      0.80      0.73       405\n",
      "        7.0       0.70      0.67      0.68        24\n",
      "        8.0       0.89      0.84      0.86       229\n",
      "\n",
      "avg / total       0.66      0.66      0.66      2225\n",
      "\n"
     ]
    }
   ],
   "source": [
    "print (classification_report(label_test, all_predictions))"
   ]
  },
  {
   "cell_type": "code",
   "execution_count": null,
   "metadata": {},
   "outputs": [],
   "source": []
  }
 ],
 "metadata": {
  "kernelspec": {
   "display_name": "Python 3",
   "language": "python",
   "name": "python3"
  },
  "language_info": {
   "codemirror_mode": {
    "name": "ipython",
    "version": 3
   },
   "file_extension": ".py",
   "mimetype": "text/x-python",
   "name": "python",
   "nbconvert_exporter": "python",
   "pygments_lexer": "ipython3",
   "version": "3.6.5"
  }
 },
 "nbformat": 4,
 "nbformat_minor": 2
}
